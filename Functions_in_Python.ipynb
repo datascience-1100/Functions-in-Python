{
  "nbformat": 4,
  "nbformat_minor": 0,
  "metadata": {
    "colab": {
      "provenance": [],
      "authorship_tag": "ABX9TyOqwSvZWRSRQa91OAOf001m",
      "include_colab_link": true
    },
    "kernelspec": {
      "name": "python3",
      "display_name": "Python 3"
    },
    "language_info": {
      "name": "python"
    }
  },
  "cells": [
    {
      "cell_type": "markdown",
      "metadata": {
        "id": "view-in-github",
        "colab_type": "text"
      },
      "source": [
        "<a href=\"https://colab.research.google.com/github/datascience-1100/Functions-in-Python/blob/main/Functions_in_Python.ipynb\" target=\"_parent\"><img src=\"https://colab.research.google.com/assets/colab-badge.svg\" alt=\"Open In Colab\"/></a>"
      ]
    },
    {
      "cell_type": "code",
      "execution_count": null,
      "metadata": {
        "id": "I2FJun5k-ilu"
      },
      "outputs": [],
      "source": [
        "#Definitions of Functions in Python"
      ]
    },
    {
      "cell_type": "code",
      "source": [
        "def function_name(parameters):\n",
        "  '''Write about the program'''\n",
        "   perform some operations\n",
        "   return\n",
        "\n",
        "a= function_name(arguments)"
      ],
      "metadata": {
        "id": "tpdRwUGqKRmP"
      },
      "execution_count": null,
      "outputs": []
    },
    {
      "cell_type": "code",
      "source": [
        "def addition(x, y):\n",
        " '''This function is to add two numbers'''\n",
        " return x + y\n",
        "a=addition(2,3)\n",
        "print(a)"
      ],
      "metadata": {
        "id": "B332CGhN_BBN"
      },
      "execution_count": null,
      "outputs": []
    },
    {
      "cell_type": "code",
      "source": [
        "print()\n",
        "append()\n",
        "capitalize()\n",
        "upper()"
      ],
      "metadata": {
        "id": "pPNXhqzEK-ju"
      },
      "execution_count": null,
      "outputs": []
    },
    {
      "cell_type": "code",
      "source": [
        "#User Defined vs /Built in Function\n",
        "#Visualize"
      ],
      "metadata": {
        "id": "maPmfabMqR5S"
      },
      "execution_count": null,
      "outputs": []
    },
    {
      "cell_type": "code",
      "source": [
        "#Docstring\n",
        "print(print.__doc__)"
      ],
      "metadata": {
        "id": "P2tQcmXgyKL9",
        "colab": {
          "base_uri": "https://localhost:8080/"
        },
        "outputId": "8ddf97b4-44ba-4d8d-d7c6-26ea5d9f7f14"
      },
      "execution_count": null,
      "outputs": [
        {
          "output_type": "stream",
          "name": "stdout",
          "text": [
            "print(value, ..., sep=' ', end='\\n', file=sys.stdout, flush=False)\n",
            "\n",
            "Prints the values to a stream, or to sys.stdout by default.\n",
            "Optional keyword arguments:\n",
            "file:  a file-like object (stream); defaults to the current sys.stdout.\n",
            "sep:   string inserted between values, default a space.\n",
            "end:   string appended after the last value, default a newline.\n",
            "flush: whether to forcibly flush the stream.\n"
          ]
        }
      ]
    },
    {
      "cell_type": "code",
      "source": [
        "#Parameter vs Arguments\n",
        "#Parameter- while writing the function\n",
        "#Arguments- while calling the function"
      ],
      "metadata": {
        "id": "Ir8wxLLbCoh8"
      },
      "execution_count": null,
      "outputs": []
    },
    {
      "cell_type": "markdown",
      "source": [
        "#Types of Arguments\n",
        "1. Default Arguments\n",
        "2. Positional Arguments\n",
        "3. Keyword Arguments"
      ],
      "metadata": {
        "id": "hx_ThmMpE1er"
      }
    },
    {
      "cell_type": "code",
      "source": [
        "#Default Arguments\n",
        "def add(x=1, y=1):\n",
        " '''This function is to add two numbers'''\n",
        " return x + y\n",
        "a=add(2)\n",
        "print(a)"
      ],
      "metadata": {
        "id": "L_nIsf_FEq54",
        "colab": {
          "base_uri": "https://localhost:8080/"
        },
        "outputId": "93552344-c379-46e3-b572-912cf6203f1c"
      },
      "execution_count": null,
      "outputs": [
        {
          "output_type": "stream",
          "name": "stdout",
          "text": [
            "3\n"
          ]
        }
      ]
    },
    {
      "cell_type": "code",
      "source": [
        "#Positonal Arguments\n",
        "def add(x, y, z):\n",
        " '''This function is to add two numbers'''\n",
        " return x + y +z\n",
        "a=add(2, 3, 5)\n",
        "print(a)"
      ],
      "metadata": {
        "id": "kN5ReP_kFkPA"
      },
      "execution_count": null,
      "outputs": []
    },
    {
      "cell_type": "code",
      "source": [
        "#Keyword Arguments\n",
        "def add(x, y,z):\n",
        " '''This function is to add two numbers'''\n",
        " return x + y+z\n",
        "a=add(y=3,z=5, x=2)\n",
        "print(a)"
      ],
      "metadata": {
        "id": "KOQ5SHmlFkbO",
        "colab": {
          "base_uri": "https://localhost:8080/",
          "height": 176
        },
        "outputId": "09c17d9d-c38b-420c-9f80-64eade520571"
      },
      "execution_count": null,
      "outputs": [
        {
          "output_type": "error",
          "ename": "NameError",
          "evalue": "name 'x' is not defined",
          "traceback": [
            "\u001b[0;31m---------------------------------------------------------------------------\u001b[0m",
            "\u001b[0;31mNameError\u001b[0m                                 Traceback (most recent call last)",
            "\u001b[0;32m<ipython-input-7-a58e5c3c8505>\u001b[0m in \u001b[0;36m<cell line: 6>\u001b[0;34m()\u001b[0m\n\u001b[1;32m      4\u001b[0m  \u001b[0;32mreturn\u001b[0m \u001b[0mx\u001b[0m \u001b[0;34m+\u001b[0m \u001b[0my\u001b[0m\u001b[0;34m+\u001b[0m\u001b[0mz\u001b[0m\u001b[0;34m\u001b[0m\u001b[0;34m\u001b[0m\u001b[0m\n\u001b[1;32m      5\u001b[0m \u001b[0ma\u001b[0m\u001b[0;34m=\u001b[0m\u001b[0madd\u001b[0m\u001b[0;34m(\u001b[0m\u001b[0my\u001b[0m\u001b[0;34m=\u001b[0m\u001b[0;36m3\u001b[0m\u001b[0;34m,\u001b[0m\u001b[0mz\u001b[0m\u001b[0;34m=\u001b[0m\u001b[0;36m5\u001b[0m\u001b[0;34m,\u001b[0m \u001b[0mx\u001b[0m\u001b[0;34m=\u001b[0m\u001b[0;36m2\u001b[0m\u001b[0;34m)\u001b[0m\u001b[0;34m\u001b[0m\u001b[0;34m\u001b[0m\u001b[0m\n\u001b[0;32m----> 6\u001b[0;31m \u001b[0mprint\u001b[0m\u001b[0;34m(\u001b[0m\u001b[0mx\u001b[0m\u001b[0;34m)\u001b[0m\u001b[0;34m\u001b[0m\u001b[0;34m\u001b[0m\u001b[0m\n\u001b[0m",
            "\u001b[0;31mNameError\u001b[0m: name 'x' is not defined"
          ]
        }
      ]
    },
    {
      "cell_type": "code",
      "source": [
        "def full_name(first= 'Mike', sur= 'Fernandes'):\n",
        "    first_name=first.capitalize()\n",
        "    sur_name=sur.capitalize()\n",
        "    return first_name +' '+sur_name\n",
        "\n",
        "name= full_name()\n",
        "print(name)"
      ],
      "metadata": {
        "id": "8BR4ytH0XdZa"
      },
      "execution_count": null,
      "outputs": []
    },
    {
      "cell_type": "code",
      "source": [
        "#Non default argument follows default arguments\n",
        "def full_name(first= 'Mike', sur):\n",
        "    first_name=first.capitalize()\n",
        "    sur_name=sur.capitalize()\n",
        "    return first_name +' '+sur_name\n",
        "\n",
        "\n",
        "name= full_name(first='John', sur='Fernandes')\n",
        "print(name)"
      ],
      "metadata": {
        "colab": {
          "base_uri": "https://localhost:8080/",
          "height": 106
        },
        "id": "vt6KCFWjnUKb",
        "outputId": "e89db07a-5449-47d7-b272-ff9c7649fd81"
      },
      "execution_count": null,
      "outputs": [
        {
          "output_type": "error",
          "ename": "SyntaxError",
          "evalue": "non-default argument follows default argument (<ipython-input-6-4430c9ad7a12>, line 2)",
          "traceback": [
            "\u001b[0;36m  File \u001b[0;32m\"<ipython-input-6-4430c9ad7a12>\"\u001b[0;36m, line \u001b[0;32m2\u001b[0m\n\u001b[0;31m    def full_name(first= 'Mike', sur):\u001b[0m\n\u001b[0m                                 ^\u001b[0m\n\u001b[0;31mSyntaxError\u001b[0m\u001b[0;31m:\u001b[0m non-default argument follows default argument\n"
          ]
        }
      ]
    },
    {
      "cell_type": "code",
      "source": [
        "def add(x, y):\n",
        "    return x + y\n",
        "\n",
        "def subtract(x, y):\n",
        "    return x - y\n",
        "\n",
        "def multiply(x, y):\n",
        "    return x * y\n",
        "\n",
        "def divide(x, y):\n",
        "    if y == 0:\n",
        "        return \"Error! Division by zero.\"\n",
        "    else:\n",
        "        return x / y\n",
        "\n",
        "print(\"Select operation:\")\n",
        "print(\"1. Add\")\n",
        "print(\"2. Subtract\")\n",
        "print(\"3. Multiply\")\n",
        "print(\"4. Divide\")\n",
        "\n",
        "while True:\n",
        "    choice = input(\"Enter choice (1/2/3/4): \")\n",
        "\n",
        "    if choice in ('1', '2', '3', '4'):\n",
        "        num1 = float(input(\"Enter first number: \"))\n",
        "        num2 = float(input(\"Enter second number: \"))\n",
        "\n",
        "        if choice == '1':\n",
        "            print(\"Result:\", add(num1, num2))\n",
        "        elif choice == '2':\n",
        "            print(\"Result:\", subtract(num1, num2))\n",
        "        elif choice == '3':\n",
        "            print(\"Result:\", multiply(num1, num2))\n",
        "        elif choice == '4':\n",
        "            print(\"Result:\", divide(num1, num2))\n",
        "        break\n",
        "    else:\n",
        "        print(\"Invalid input\")\n",
        "        break\n"
      ],
      "metadata": {
        "id": "i_8d3meCAnHI",
        "colab": {
          "base_uri": "https://localhost:8080/"
        },
        "outputId": "a5eebea2-a773-41d0-99a0-1cd6beda2691"
      },
      "execution_count": null,
      "outputs": [
        {
          "output_type": "stream",
          "name": "stdout",
          "text": [
            "Select operation:\n",
            "1. Add\n",
            "2. Subtract\n",
            "3. Multiply\n",
            "4. Divide\n",
            "Enter choice (1/2/3/4): 3\n",
            "Enter first number: 20\n",
            "Enter second number: 3\n",
            "Result: 60.0\n"
          ]
        }
      ]
    },
    {
      "cell_type": "code",
      "source": [
        "#Functions- a data type"
      ],
      "metadata": {
        "id": "9BLeLBmnfB-j"
      },
      "execution_count": null,
      "outputs": []
    },
    {
      "cell_type": "code",
      "source": [
        "def addition(x, y):\n",
        " '''This function is to add two numbers'''\n",
        " return x + y\n",
        "a=addition(2,3)\n",
        "print(a)"
      ],
      "metadata": {
        "colab": {
          "base_uri": "https://localhost:8080/"
        },
        "id": "VpdxJOOkTOof",
        "outputId": "9e01112a-b198-4cce-89bf-07bf63e937e4"
      },
      "execution_count": null,
      "outputs": [
        {
          "output_type": "stream",
          "name": "stdout",
          "text": [
            "5\n"
          ]
        }
      ]
    },
    {
      "cell_type": "code",
      "source": [
        "#Assign\n",
        "s=addition\n",
        "print(s)\n",
        "type(s)\n",
        "a=s(2,3)\n",
        "print(a)"
      ],
      "metadata": {
        "colab": {
          "base_uri": "https://localhost:8080/",
          "height": 211
        },
        "id": "sJL_fgAVfHoW",
        "outputId": "34f2d1d7-3e8d-4237-d336-4ee082990c81"
      },
      "execution_count": null,
      "outputs": [
        {
          "output_type": "error",
          "ename": "NameError",
          "evalue": "name 'addition' is not defined",
          "traceback": [
            "\u001b[0;31m---------------------------------------------------------------------------\u001b[0m",
            "\u001b[0;31mNameError\u001b[0m                                 Traceback (most recent call last)",
            "\u001b[0;32m<ipython-input-36-977d5c84c8c3>\u001b[0m in \u001b[0;36m<cell line: 2>\u001b[0;34m()\u001b[0m\n\u001b[1;32m      1\u001b[0m \u001b[0;31m#Assign\u001b[0m\u001b[0;34m\u001b[0m\u001b[0;34m\u001b[0m\u001b[0m\n\u001b[0;32m----> 2\u001b[0;31m \u001b[0ms\u001b[0m\u001b[0;34m=\u001b[0m\u001b[0maddition\u001b[0m\u001b[0;34m\u001b[0m\u001b[0;34m\u001b[0m\u001b[0m\n\u001b[0m\u001b[1;32m      3\u001b[0m \u001b[0mprint\u001b[0m\u001b[0;34m(\u001b[0m\u001b[0ms\u001b[0m\u001b[0;34m)\u001b[0m\u001b[0;34m\u001b[0m\u001b[0;34m\u001b[0m\u001b[0m\n\u001b[1;32m      4\u001b[0m \u001b[0mtype\u001b[0m\u001b[0;34m(\u001b[0m\u001b[0ms\u001b[0m\u001b[0;34m)\u001b[0m\u001b[0;34m\u001b[0m\u001b[0;34m\u001b[0m\u001b[0m\n\u001b[1;32m      5\u001b[0m \u001b[0ma\u001b[0m\u001b[0;34m=\u001b[0m\u001b[0ms\u001b[0m\u001b[0;34m(\u001b[0m\u001b[0;36m2\u001b[0m\u001b[0;34m,\u001b[0m\u001b[0;36m3\u001b[0m\u001b[0;34m)\u001b[0m\u001b[0;34m\u001b[0m\u001b[0;34m\u001b[0m\u001b[0m\n",
            "\u001b[0;31mNameError\u001b[0m: name 'addition' is not defined"
          ]
        }
      ]
    },
    {
      "cell_type": "code",
      "source": [
        "del addition\n",
        "a=s(2,3)\n",
        "print(a)"
      ],
      "metadata": {
        "id": "k3SsdjmnfWjv",
        "colab": {
          "base_uri": "https://localhost:8080/",
          "height": 176
        },
        "outputId": "7ea71bb3-8cda-43fb-9b9c-5f6f10a5927b"
      },
      "execution_count": null,
      "outputs": [
        {
          "output_type": "error",
          "ename": "NameError",
          "evalue": "name 'addition' is not defined",
          "traceback": [
            "\u001b[0;31m---------------------------------------------------------------------------\u001b[0m",
            "\u001b[0;31mNameError\u001b[0m                                 Traceback (most recent call last)",
            "\u001b[0;32m<ipython-input-35-b9c491130354>\u001b[0m in \u001b[0;36m<cell line: 1>\u001b[0;34m()\u001b[0m\n\u001b[0;32m----> 1\u001b[0;31m \u001b[0;32mdel\u001b[0m \u001b[0maddition\u001b[0m\u001b[0;34m\u001b[0m\u001b[0;34m\u001b[0m\u001b[0m\n\u001b[0m\u001b[1;32m      2\u001b[0m \u001b[0ma\u001b[0m\u001b[0;34m=\u001b[0m\u001b[0ms\u001b[0m\u001b[0;34m(\u001b[0m\u001b[0;36m2\u001b[0m\u001b[0;34m,\u001b[0m\u001b[0;36m3\u001b[0m\u001b[0;34m)\u001b[0m\u001b[0;34m\u001b[0m\u001b[0;34m\u001b[0m\u001b[0m\n\u001b[1;32m      3\u001b[0m \u001b[0mprint\u001b[0m\u001b[0;34m(\u001b[0m\u001b[0ma\u001b[0m\u001b[0;34m)\u001b[0m\u001b[0;34m\u001b[0m\u001b[0;34m\u001b[0m\u001b[0m\n",
            "\u001b[0;31mNameError\u001b[0m: name 'addition' is not defined"
          ]
        }
      ]
    },
    {
      "cell_type": "code",
      "source": [
        "#Access a function\n",
        "L=[1,2,3,4,5,addition]\n",
        "a=L[-1](3,4)\n",
        "print(a)"
      ],
      "metadata": {
        "colab": {
          "base_uri": "https://localhost:8080/"
        },
        "id": "BbADc1O4fYms",
        "outputId": "deba3bcb-5d28-45df-ea79-204958317d3e"
      },
      "execution_count": null,
      "outputs": [
        {
          "output_type": "stream",
          "name": "stdout",
          "text": [
            "7\n"
          ]
        }
      ]
    },
    {
      "cell_type": "code",
      "source": [
        "#Function as an input to another function\n",
        "def add(a, b):\n",
        "    return a + b\n",
        "\n",
        "def multiply(a, b):\n",
        "    return a * b\n",
        "\n",
        "def divide (a,b):\n",
        "     return a/b\n",
        "\n",
        "def apply_operation(func, x, y):\n",
        "    return func(x, y)\n",
        "\n",
        "result1 = apply_operation(divide, 6, 4)\n",
        "print(result1)"
      ],
      "metadata": {
        "id": "A_2dIC8Qf8X4",
        "colab": {
          "base_uri": "https://localhost:8080/"
        },
        "outputId": "b5b9fdf0-aae4-4444-9f66-c9c91c479a92"
      },
      "execution_count": 20,
      "outputs": [
        {
          "output_type": "stream",
          "name": "stdout",
          "text": [
            "1.5\n"
          ]
        }
      ]
    },
    {
      "cell_type": "code",
      "source": [
        "#Returning a function\n",
        "def outer_function(x):\n",
        "    def inner_function(y):\n",
        "        return x + y\n",
        "    return inner_function\n",
        "\n",
        "add_5 = outer_function(5)\n",
        "result = add_5(3)\n",
        "\n",
        "print(result)"
      ],
      "metadata": {
        "id": "q9ga9KP9B_5X"
      },
      "execution_count": null,
      "outputs": []
    },
    {
      "cell_type": "code",
      "source": [
        "def do_something():\n",
        "    print(\"This function doesn't return anything.\")\n",
        "    return 6\n",
        "\n",
        "\n",
        "result = do_something()\n",
        "print(result)\n"
      ],
      "metadata": {
        "colab": {
          "base_uri": "https://localhost:8080/"
        },
        "id": "riShS8PBxsxx",
        "outputId": "6e54d32e-9557-4ec4-e95d-1fd54d75209b"
      },
      "execution_count": 22,
      "outputs": [
        {
          "output_type": "stream",
          "name": "stdout",
          "text": [
            "This function doesn't return anything.\n",
            "6\n"
          ]
        }
      ]
    },
    {
      "cell_type": "code",
      "source": [
        "#Nested function\n",
        "def outer_function():\n",
        "    print(\"Hello, this is the outer function!\")\n",
        "\n",
        "\n",
        "    def inner_function():\n",
        "        print(\"Hello, i m inside\")\n",
        "\n",
        "    inner_function()\n",
        "\n",
        "outer_function()"
      ],
      "metadata": {
        "id": "RWVKm5NFZNa5"
      },
      "execution_count": null,
      "outputs": []
    },
    {
      "cell_type": "code",
      "source": [
        "#Returning a function\n",
        "def outer_function(x):\n",
        "    def inner_function(y):\n",
        "        return x + y\n",
        "    return inner_function\n",
        "\n",
        "add_5 = outer_function(5)\n",
        "result = add_5(3)\n",
        "\n",
        "print(result)\n"
      ],
      "metadata": {
        "id": "U3KXJhfWgWqV"
      },
      "execution_count": null,
      "outputs": []
    },
    {
      "cell_type": "code",
      "source": [
        "#Lambda Function\n",
        "add_numbers = lambda x, y: x + y\n",
        "\n",
        "result = add_numbers(3, 5)\n",
        "print(result)\n"
      ],
      "metadata": {
        "id": "v0ZLRYTEq3mD",
        "colab": {
          "base_uri": "https://localhost:8080/"
        },
        "outputId": "0282e47d-d3d5-4b8b-d692-aab5467f59e3"
      },
      "execution_count": 23,
      "outputs": [
        {
          "output_type": "stream",
          "name": "stdout",
          "text": [
            "8\n"
          ]
        }
      ]
    },
    {
      "cell_type": "code",
      "source": [
        "even=lambda x: x%2==0\n",
        "result=even(4)\n",
        "print(result)"
      ],
      "metadata": {
        "colab": {
          "base_uri": "https://localhost:8080/"
        },
        "id": "ySW0FyMpF7ea",
        "outputId": "21f48f08-8974-4187-df09-f8fcd02da02d"
      },
      "execution_count": 25,
      "outputs": [
        {
          "output_type": "stream",
          "name": "stdout",
          "text": [
            "True\n"
          ]
        }
      ]
    },
    {
      "cell_type": "code",
      "source": [
        "def create_adder(n):\n",
        "    return lambda x: x + n\n",
        "\n",
        "add_5 = create_adder(5)\n",
        "result = add_5(7)\n",
        "print(result)"
      ],
      "metadata": {
        "colab": {
          "base_uri": "https://localhost:8080/"
        },
        "id": "-0-3VpaCvTRb",
        "outputId": "41bf8aa2-f769-4937-946b-91e3d42f622f"
      },
      "execution_count": 26,
      "outputs": [
        {
          "output_type": "stream",
          "name": "stdout",
          "text": [
            "12\n"
          ]
        }
      ]
    },
    {
      "cell_type": "code",
      "source": [
        "#*args and **kwargs\n",
        "def sum_numbers(*coco):\n",
        "    total = 0\n",
        "    for num in coco:\n",
        "        total += num\n",
        "    return total\n",
        "\n",
        "result = sum_numbers(1, 2, 3, 4, 5,6,7)\n",
        "print(result)\n"
      ],
      "metadata": {
        "id": "Jxakb0bbyBsB",
        "colab": {
          "base_uri": "https://localhost:8080/"
        },
        "outputId": "c4ec4e5c-b6ce-42b7-99e8-944fb15dbb64"
      },
      "execution_count": 27,
      "outputs": [
        {
          "output_type": "stream",
          "name": "stdout",
          "text": [
            "28\n"
          ]
        }
      ]
    },
    {
      "cell_type": "code",
      "source": [
        "def print_dict_items(**kwc):\n",
        "    for key, value in kwc.items():\n",
        "        print(f\"Key: {key}, Value: {value}\")\n",
        "\n",
        "# Passing a dictionary to the function using **kwargs\n",
        "data = {'a': 1, 'b': 2, 'c': 3}\n",
        "print_dict_items(**data)\n"
      ],
      "metadata": {
        "colab": {
          "base_uri": "https://localhost:8080/"
        },
        "id": "CGPMasOVyX8G",
        "outputId": "960e4d4f-eb53-4f8c-b630-173d7615babf"
      },
      "execution_count": 28,
      "outputs": [
        {
          "output_type": "stream",
          "name": "stdout",
          "text": [
            "Key: a, Value: 1\n",
            "Key: b, Value: 2\n",
            "Key: c, Value: 3\n"
          ]
        }
      ]
    },
    {
      "cell_type": "code",
      "source": [
        "Scope of a Function"
      ],
      "metadata": {
        "id": "jq6NaJwuztye"
      },
      "execution_count": null,
      "outputs": []
    }
  ]
}