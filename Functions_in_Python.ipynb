{
  "nbformat": 4,
  "nbformat_minor": 0,
  "metadata": {
    "colab": {
      "provenance": []
    },
    "kernelspec": {
      "name": "python3",
      "display_name": "Python 3"
    },
    "language_info": {
      "name": "python"
    }
  },
  "cells": [
    {
      "cell_type": "code",
      "execution_count": null,
      "metadata": {
        "id": "I2FJun5k-ilu"
      },
      "outputs": [],
      "source": [
        "#Definitions of Functions in Python"
      ]
    },
    {
      "cell_type": "code",
      "source": [
        "def function_name(parameters):\n",
        "  '''Write about the program'''\n",
        "   perform some operations\n",
        "   return\n",
        "\n",
        "a= function_name(arguments)"
      ],
      "metadata": {
        "id": "tpdRwUGqKRmP"
      },
      "execution_count": null,
      "outputs": []
    },
    {
      "cell_type": "code",
      "source": [
        "def addition(x, y):\n",
        " '''This function is to add two numbers'''\n",
        " return x + y\n",
        "a=addition(2,3)\n",
        "print(a)"
      ],
      "metadata": {
        "id": "B332CGhN_BBN"
      },
      "execution_count": null,
      "outputs": []
    },
    {
      "cell_type": "code",
      "source": [
        "print()\n",
        "append()\n",
        "capitalize()\n",
        "upper()"
      ],
      "metadata": {
        "id": "pPNXhqzEK-ju"
      },
      "execution_count": null,
      "outputs": []
    },
    {
      "cell_type": "code",
      "source": [
        "#User Defined vs /Built in Function\n",
        "#Visualize"
      ],
      "metadata": {
        "id": "maPmfabMqR5S"
      },
      "execution_count": null,
      "outputs": []
    },
    {
      "cell_type": "code",
      "source": [
        "#Docstring\n",
        "print(print.__doc__)"
      ],
      "metadata": {
        "id": "P2tQcmXgyKL9",
        "colab": {
          "base_uri": "https://localhost:8080/"
        },
        "outputId": "8ddf97b4-44ba-4d8d-d7c6-26ea5d9f7f14"
      },
      "execution_count": 2,
      "outputs": [
        {
          "output_type": "stream",
          "name": "stdout",
          "text": [
            "print(value, ..., sep=' ', end='\\n', file=sys.stdout, flush=False)\n",
            "\n",
            "Prints the values to a stream, or to sys.stdout by default.\n",
            "Optional keyword arguments:\n",
            "file:  a file-like object (stream); defaults to the current sys.stdout.\n",
            "sep:   string inserted between values, default a space.\n",
            "end:   string appended after the last value, default a newline.\n",
            "flush: whether to forcibly flush the stream.\n"
          ]
        }
      ]
    },
    {
      "cell_type": "code",
      "source": [
        "#Parameter vs Arguments\n",
        "#Parameter- while writing the function\n",
        "#Arguments- while calling the function"
      ],
      "metadata": {
        "id": "Ir8wxLLbCoh8"
      },
      "execution_count": null,
      "outputs": []
    },
    {
      "cell_type": "markdown",
      "source": [
        "#Types of Arguments\n",
        "1. Default Arguments\n",
        "2. Positional Arguments\n",
        "3. Keyword Arguments"
      ],
      "metadata": {
        "id": "hx_ThmMpE1er"
      }
    },
    {
      "cell_type": "code",
      "source": [
        "#Default Arguments\n",
        "def add(x=1, y=1):\n",
        " '''This function is to add two numbers'''\n",
        " return x + y\n",
        "a=add(2)\n",
        "print(a)"
      ],
      "metadata": {
        "id": "L_nIsf_FEq54",
        "colab": {
          "base_uri": "https://localhost:8080/"
        },
        "outputId": "93552344-c379-46e3-b572-912cf6203f1c"
      },
      "execution_count": 8,
      "outputs": [
        {
          "output_type": "stream",
          "name": "stdout",
          "text": [
            "3\n"
          ]
        }
      ]
    },
    {
      "cell_type": "code",
      "source": [
        "#Positonal Arguments\n",
        "def add(x, y, z):\n",
        " '''This function is to add two numbers'''\n",
        " return x + y +z\n",
        "a=add(2, 3, 5)\n",
        "print(a)"
      ],
      "metadata": {
        "id": "kN5ReP_kFkPA"
      },
      "execution_count": null,
      "outputs": []
    },
    {
      "cell_type": "code",
      "source": [
        "#Keyword Arguments\n",
        "def add(x, y,z):\n",
        " '''This function is to add two numbers'''\n",
        " return x + y+z\n",
        "a=add(y=3,z=5, x=2)\n",
        "print(a)"
      ],
      "metadata": {
        "id": "KOQ5SHmlFkbO"
      },
      "execution_count": null,
      "outputs": []
    },
    {
      "cell_type": "code",
      "source": [
        "def full_name(first= 'Mike', sur= 'Fernandes'):\n",
        "    first_name=first.capitalize()\n",
        "    sur_name=sur.capitalize()\n",
        "    return first_name +' '+sur_name\n",
        "\n",
        "name= full_name()\n",
        "print(name)"
      ],
      "metadata": {
        "id": "8BR4ytH0XdZa"
      },
      "execution_count": null,
      "outputs": []
    },
    {
      "cell_type": "code",
      "source": [
        "def add(x, y):\n",
        "    return x + y\n",
        "\n",
        "def subtract(x, y):\n",
        "    return x - y\n",
        "\n",
        "def multiply(x, y):\n",
        "    return x * y\n",
        "\n",
        "def divide(x, y):\n",
        "    if y == 0:\n",
        "        return \"Error! Division by zero.\"\n",
        "    else:\n",
        "        return x / y\n",
        "\n",
        "print(\"Select operation:\")\n",
        "print(\"1. Add\")\n",
        "print(\"2. Subtract\")\n",
        "print(\"3. Multiply\")\n",
        "print(\"4. Divide\")\n",
        "\n",
        "while True:\n",
        "    choice = input(\"Enter choice (1/2/3/4): \")\n",
        "\n",
        "    if choice in ('1', '2', '3', '4'):\n",
        "        num1 = float(input(\"Enter first number: \"))\n",
        "        num2 = float(input(\"Enter second number: \"))\n",
        "\n",
        "        if choice == '1':\n",
        "            print(\"Result:\", add(num1, num2))\n",
        "        elif choice == '2':\n",
        "            print(\"Result:\", subtract(num1, num2))\n",
        "        elif choice == '3':\n",
        "            print(\"Result:\", multiply(num1, num2))\n",
        "        elif choice == '4':\n",
        "            print(\"Result:\", divide(num1, num2))\n",
        "        break\n",
        "    else:\n",
        "        print(\"Invalid input\")\n",
        "        break\n"
      ],
      "metadata": {
        "id": "i_8d3meCAnHI",
        "colab": {
          "base_uri": "https://localhost:8080/"
        },
        "outputId": "a5eebea2-a773-41d0-99a0-1cd6beda2691"
      },
      "execution_count": 25,
      "outputs": [
        {
          "output_type": "stream",
          "name": "stdout",
          "text": [
            "Select operation:\n",
            "1. Add\n",
            "2. Subtract\n",
            "3. Multiply\n",
            "4. Divide\n",
            "Enter choice (1/2/3/4): 3\n",
            "Enter first number: 20\n",
            "Enter second number: 3\n",
            "Result: 60.0\n"
          ]
        }
      ]
    },
    {
      "cell_type": "code",
      "source": [
        "#Functions- a data type"
      ],
      "metadata": {
        "id": "9BLeLBmnfB-j"
      },
      "execution_count": null,
      "outputs": []
    },
    {
      "cell_type": "code",
      "source": [
        "def addition(x, y):\n",
        " '''This function is to add two numbers'''\n",
        " return x + y\n",
        "a=addition(2,3)\n",
        "print(a)"
      ],
      "metadata": {
        "colab": {
          "base_uri": "https://localhost:8080/"
        },
        "id": "VpdxJOOkTOof",
        "outputId": "9e01112a-b198-4cce-89bf-07bf63e937e4"
      },
      "execution_count": 37,
      "outputs": [
        {
          "output_type": "stream",
          "name": "stdout",
          "text": [
            "5\n"
          ]
        }
      ]
    },
    {
      "cell_type": "code",
      "source": [
        "#Assign\n",
        "s=addition\n",
        "print(s)\n",
        "type(s)\n",
        "a=s(2,3)\n",
        "print(a)"
      ],
      "metadata": {
        "colab": {
          "base_uri": "https://localhost:8080/",
          "height": 215
        },
        "id": "sJL_fgAVfHoW",
        "outputId": "34f2d1d7-3e8d-4237-d336-4ee082990c81"
      },
      "execution_count": 36,
      "outputs": [
        {
          "output_type": "error",
          "ename": "NameError",
          "evalue": "name 'addition' is not defined",
          "traceback": [
            "\u001b[0;31m---------------------------------------------------------------------------\u001b[0m",
            "\u001b[0;31mNameError\u001b[0m                                 Traceback (most recent call last)",
            "\u001b[0;32m<ipython-input-36-977d5c84c8c3>\u001b[0m in \u001b[0;36m<cell line: 2>\u001b[0;34m()\u001b[0m\n\u001b[1;32m      1\u001b[0m \u001b[0;31m#Assign\u001b[0m\u001b[0;34m\u001b[0m\u001b[0;34m\u001b[0m\u001b[0m\n\u001b[0;32m----> 2\u001b[0;31m \u001b[0ms\u001b[0m\u001b[0;34m=\u001b[0m\u001b[0maddition\u001b[0m\u001b[0;34m\u001b[0m\u001b[0;34m\u001b[0m\u001b[0m\n\u001b[0m\u001b[1;32m      3\u001b[0m \u001b[0mprint\u001b[0m\u001b[0;34m(\u001b[0m\u001b[0ms\u001b[0m\u001b[0;34m)\u001b[0m\u001b[0;34m\u001b[0m\u001b[0;34m\u001b[0m\u001b[0m\n\u001b[1;32m      4\u001b[0m \u001b[0mtype\u001b[0m\u001b[0;34m(\u001b[0m\u001b[0ms\u001b[0m\u001b[0;34m)\u001b[0m\u001b[0;34m\u001b[0m\u001b[0;34m\u001b[0m\u001b[0m\n\u001b[1;32m      5\u001b[0m \u001b[0ma\u001b[0m\u001b[0;34m=\u001b[0m\u001b[0ms\u001b[0m\u001b[0;34m(\u001b[0m\u001b[0;36m2\u001b[0m\u001b[0;34m,\u001b[0m\u001b[0;36m3\u001b[0m\u001b[0;34m)\u001b[0m\u001b[0;34m\u001b[0m\u001b[0;34m\u001b[0m\u001b[0m\n",
            "\u001b[0;31mNameError\u001b[0m: name 'addition' is not defined"
          ]
        }
      ]
    },
    {
      "cell_type": "code",
      "source": [
        "del addition\n",
        "a=s(2,3)\n",
        "print(a)"
      ],
      "metadata": {
        "id": "k3SsdjmnfWjv",
        "colab": {
          "base_uri": "https://localhost:8080/",
          "height": 180
        },
        "outputId": "7ea71bb3-8cda-43fb-9b9c-5f6f10a5927b"
      },
      "execution_count": 35,
      "outputs": [
        {
          "output_type": "error",
          "ename": "NameError",
          "evalue": "name 'addition' is not defined",
          "traceback": [
            "\u001b[0;31m---------------------------------------------------------------------------\u001b[0m",
            "\u001b[0;31mNameError\u001b[0m                                 Traceback (most recent call last)",
            "\u001b[0;32m<ipython-input-35-b9c491130354>\u001b[0m in \u001b[0;36m<cell line: 1>\u001b[0;34m()\u001b[0m\n\u001b[0;32m----> 1\u001b[0;31m \u001b[0;32mdel\u001b[0m \u001b[0maddition\u001b[0m\u001b[0;34m\u001b[0m\u001b[0;34m\u001b[0m\u001b[0m\n\u001b[0m\u001b[1;32m      2\u001b[0m \u001b[0ma\u001b[0m\u001b[0;34m=\u001b[0m\u001b[0ms\u001b[0m\u001b[0;34m(\u001b[0m\u001b[0;36m2\u001b[0m\u001b[0;34m,\u001b[0m\u001b[0;36m3\u001b[0m\u001b[0;34m)\u001b[0m\u001b[0;34m\u001b[0m\u001b[0;34m\u001b[0m\u001b[0m\n\u001b[1;32m      3\u001b[0m \u001b[0mprint\u001b[0m\u001b[0;34m(\u001b[0m\u001b[0ma\u001b[0m\u001b[0;34m)\u001b[0m\u001b[0;34m\u001b[0m\u001b[0;34m\u001b[0m\u001b[0m\n",
            "\u001b[0;31mNameError\u001b[0m: name 'addition' is not defined"
          ]
        }
      ]
    },
    {
      "cell_type": "code",
      "source": [
        "#Access a function\n",
        "L=[1,2,3,4,5,addition]\n",
        "a=L[-1](3,4)\n",
        "print(a)"
      ],
      "metadata": {
        "colab": {
          "base_uri": "https://localhost:8080/"
        },
        "id": "BbADc1O4fYms",
        "outputId": "deba3bcb-5d28-45df-ea79-204958317d3e"
      },
      "execution_count": 38,
      "outputs": [
        {
          "output_type": "stream",
          "name": "stdout",
          "text": [
            "7\n"
          ]
        }
      ]
    },
    {
      "cell_type": "code",
      "source": [
        "#Function as an input to another function"
      ],
      "metadata": {
        "id": "A_2dIC8Qf8X4"
      },
      "execution_count": null,
      "outputs": []
    },
    {
      "cell_type": "code",
      "source": [
        "#Returning a function"
      ],
      "metadata": {
        "id": "gWxBtm7lgAnD"
      },
      "execution_count": null,
      "outputs": []
    },
    {
      "cell_type": "code",
      "source": [
        "#Lambda Function"
      ],
      "metadata": {
        "id": "v0ZLRYTEq3mD"
      },
      "execution_count": null,
      "outputs": []
    },
    {
      "cell_type": "code",
      "source": [
        "#Scope of a function"
      ],
      "metadata": {
        "id": "uCV0B0xbq3pk"
      },
      "execution_count": null,
      "outputs": []
    },
    {
      "cell_type": "code",
      "source": [
        "*args ans **kwargs"
      ],
      "metadata": {
        "id": "Jxakb0bbyBsB"
      },
      "execution_count": null,
      "outputs": []
    }
  ]
}